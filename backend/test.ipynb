{
 "cells": [
  {
   "cell_type": "code",
   "execution_count": 56,
   "metadata": {},
   "outputs": [],
   "source": [
    "from gensim.scripts.glove2word2vec import glove2word2vec\n",
    "from gensim.models import KeyedVectors\n",
    "\n",
    "from pathlib import Path\n",
    "import numpy as np\n",
    "# 当前脚本所在目录\n",
    "#current_dir = Path(__file__).parent\n",
    "#word2vec_output_file = 'glove.6B.300d.txt.word2vec'\n",
    "word2vec_output_file = 'glove.42B.300d.txt.word2vec'\n",
    "# 加载转换后的文件\n",
    "model = KeyedVectors.load_word2vec_format(word2vec_output_file, binary=False)\n",
    "\n",
    "#keywords1 = [\"price\", \"City\", \"Country\", \"Start\",\"Date\",\"EndDate\",\"Package\",\"Flights\",\" Hotel\"]\n",
    "threshold = 0.5 \n",
    "userInput = \"what's the price to Tokyo\"\n",
    "#userInput = \"what's the weather?\"\n",
    "\n",
    "# 定义计算平均向量的函数\n",
    "def average_vector(words):\n",
    "    # 过滤掉模型词汇表中不存在的词\n",
    "    valid_words = [word for word in words if word in model]\n",
    "    if not valid_words:\n",
    "        return None\n",
    "    # 计算平均向量\n",
    "    return np.mean([model[word] for word in valid_words], axis=0)\n",
    "\n",
    "# 函数：计算余弦相似度\n",
    "def cosine_similarity(vec1, vec2):\n",
    "    return np.dot(vec1, vec2) / (np.linalg.norm(vec1) * np.linalg.norm(vec2))"
   ]
  },
  {
   "cell_type": "code",
   "execution_count": 72,
   "metadata": {},
   "outputs": [
    {
     "data": {
      "text/plain": [
       "300"
      ]
     },
     "execution_count": 72,
     "metadata": {},
     "output_type": "execute_result"
    }
   ],
   "source": [
    "#keywords1 = [\"white\",\"price\", \"City\",\"Country\", \"Start\",\"Date\",\"End\",\"Package\",\"Type\",\"Flights\",\"Hotel\"]\n",
    "keywords1 = ['Comment', 'Destinations', 'Package', 'Review', 'Customer', 'ID', 'Rating', 'Price', 'Description', 'End', 'City', 'And', 'Travel', 'Attractions', 'Destination', 'Packages', 'Feedback', 'Type', 'Date', 'Country', 'Reviews', 'Start', 'Includes']\n",
    "keywords1 = [element.lower() for element in keywords1]\n",
    "#userInput = \"what's the price to Tokyo\"\n",
    "\n",
    "userInput = \"describe\"\n",
    "#userInput = \"what's the weather\"\n",
    "#userVec = average_vector(userInput)\n",
    "userVec = model[userInput]\n",
    "len(userVec)\n",
    "#keyVec = average_vector(keywords1)"
   ]
  },
  {
   "cell_type": "code",
   "execution_count": 73,
   "metadata": {},
   "outputs": [
    {
     "name": "stdout",
     "output_type": "stream",
     "text": [
      "[]\n",
      "[0.41214254, 0.24890724, 0.32484734, 0.41178823, 0.41867498, 0.3018977, 0.26095286, 0.2960444, 0.53462183, 0.44081, 0.3397033, 0.46377265, 0.30374947, 0.22094099, 0.33016422, 0.26242846, 0.34614113, 0.5006737, 0.31471473, 0.41468817, 0.33375677, 0.46703905, 0.40216398]\n"
     ]
    }
   ],
   "source": [
    "\n",
    "not_included = [word for word in keywords1 if word not in model.key_to_index]\n",
    "similarities = [cosine_similarity(userVec, model[keyword]) for keyword in keywords1 if keyword in model]\n",
    "print(not_included)\n",
    "print(similarities)\n",
    "#print(cosine_similarity(userVec, keyVec))\n",
    "\n"
   ]
  },
  {
   "cell_type": "code",
   "execution_count": 84,
   "metadata": {},
   "outputs": [
    {
     "name": "stderr",
     "output_type": "stream",
     "text": [
      "\u001b[36mDEBUG   \u001b[0m \u001b[34m一个调试消息\u001b[0m\n",
      "一个调试消息\n",
      "\u001b[36mDEBUG   \u001b[0m \u001b[34m一个调试消息\u001b[0m\n",
      "一个调试消息\n",
      "一个调试消息\n",
      "DEBUG:my_logger:一个调试消息\n"
     ]
    }
   ],
   "source": [
    "import logging\n",
    "from colorlog import ColoredFormatter\n",
    "\n",
    "# 创建一个日志记录器\n",
    "logger = logging.getLogger('my_logger')\n",
    "logger.setLevel(logging.DEBUG)\n",
    "\n",
    "# # 创建一个流处理器\n",
    "# stream_handler = logging.StreamHandler()\n",
    "\n",
    "# # 设置颜色格式\n",
    "# formatter = ColoredFormatter(\n",
    "#     \"%(log_color)s%(levelname)-8s%(reset)s %(blue)s%(message)s\",\n",
    "#     datefmt=None,\n",
    "#     reset=True,\n",
    "#     log_colors={\n",
    "#         'DEBUG': 'cyan',\n",
    "#         'INFO': 'green',\n",
    "#         'WARNING': 'yellow',\n",
    "#         'ERROR': 'red',\n",
    "#         'CRITICAL': 'red,bg_white',\n",
    "#     },\n",
    "#     secondary_log_colors={},\n",
    "#     style='%'\n",
    "# )\n",
    "\n",
    "# #stream_handler.setFormatter(formatter)\n",
    "# logger.addHandler(stream_handler)\n",
    "\n",
    "# # 测试不同级别的日志输出\n",
    "logger.debug('一个调试消息')\n",
    "# logger.info('一个信息消息')\n",
    "# logger.warning('一个警告消息')\n",
    "# logger.error('一个错误消息')\n",
    "# logger.critical('一个严重错误消息')\n"
   ]
  },
  {
   "cell_type": "code",
   "execution_count": 107,
   "metadata": {},
   "outputs": [],
   "source": [
    "def trimquery(sqlquery):\n",
    "    for tag in [\"```sql\", \"```SQL\", \"```mysql\", \"```MYSQL\"]:\n",
    "        start = sqlquery.find(tag)\n",
    "        if start != -1:\n",
    "            # 标记后面跟着的是SQL语句，所以要跳过标记本身\n",
    "            start += len(tag)\n",
    "            break  # 找到一个就停止搜索\n",
    "        \n",
    "    if start == -1:\n",
    "        # 如果没有找到任何标记\n",
    "        logger.warning(\"SQL query start tag not found.\")\n",
    "        return \"SQL query start tag not found.\"\n",
    "    \n",
    "    startqry = sqlquery[start:]\n",
    "    #print(startqry)\n",
    "    end = startqry.find(\"```\")\n",
    "    if end == -1:\n",
    "        # 如果找不到结束标记，可以返回整个提取的字符串或处理错误\n",
    "        logger.warning(\"SQL query end tag not found.\")\n",
    "        return \"SQL query end tag not found.\"\n",
    "    \n",
    "    endquery = startqry[0:end] \n",
    "    \n",
    "    return endquery\n",
    "\n",
    "# 示例文本块\n",
    "text_block = \"\"\"\n",
    "Based on your table schemas, you can get the price to Tokyo with the following SQL query:\n",
    "\n",
    "```SQL\n",
    "SELECT Price\n",
    "FROM TravelPackages\n",
    "WHERE Destination = \"Tokyo\";\n",
    "```\n",
    "This query selects the price from the TravelPackages table where the Destination field is equal to \"Tokyo\". Be sure to replace `Tokyo` with the exact city name as it appears in your table data if it's not exactly \"Tokyo\".\n",
    "\n",
    "Please note that this will return the prices of all listed packages for Tokyo. If you need to narrow the results (ex. by a specific PackageType or date range), you will need to add additional conditions to the WHERE clause.\n",
    "\"\"\"\n"
   ]
  },
  {
   "cell_type": "code",
   "execution_count": 108,
   "metadata": {},
   "outputs": [
    {
     "name": "stdout",
     "output_type": "stream",
     "text": [
      "\n",
      "SELECT Price\n",
      "FROM TravelPackages\n",
      "WHERE Destination = \"Tokyo\";\n",
      "\n"
     ]
    }
   ],
   "source": [
    "extracted_query = trimquery(text_block)\n",
    "print(extracted_query)"
   ]
  }
 ],
 "metadata": {
  "kernelspec": {
   "display_name": "base",
   "language": "python",
   "name": "python3"
  },
  "language_info": {
   "codemirror_mode": {
    "name": "ipython",
    "version": 3
   },
   "file_extension": ".py",
   "mimetype": "text/x-python",
   "name": "python",
   "nbconvert_exporter": "python",
   "pygments_lexer": "ipython3",
   "version": "3.11.4"
  }
 },
 "nbformat": 4,
 "nbformat_minor": 2
}
